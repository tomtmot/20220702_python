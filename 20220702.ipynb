{
  "nbformat": 4,
  "nbformat_minor": 0,
  "metadata": {
    "colab": {
      "name": "20220702.ipynb",
      "provenance": [],
      "authorship_tag": "ABX9TyMXPI8N5gIiP0bkYULyIl/f",
      "include_colab_link": true
    },
    "kernelspec": {
      "name": "python3",
      "display_name": "Python 3"
    },
    "language_info": {
      "name": "python"
    }
  },
  "cells": [
    {
      "cell_type": "markdown",
      "metadata": {
        "id": "view-in-github",
        "colab_type": "text"
      },
      "source": [
        "<a href=\"https://colab.research.google.com/github/tomtmot/20220702_python/blob/main/20220702.ipynb\" target=\"_parent\"><img src=\"https://colab.research.google.com/assets/colab-badge.svg\" alt=\"Open In Colab\"/></a>"
      ]
    },
    {
      "cell_type": "markdown",
      "source": [
        "# 20220702-python人工智慧應用班"
      ],
      "metadata": {
        "id": "TtrIihQGz6mA"
      }
    },
    {
      "cell_type": "code",
      "execution_count": 2,
      "metadata": {
        "colab": {
          "base_uri": "https://localhost:8080/"
        },
        "id": "VAM-n4Izyuo-",
        "outputId": "81d8ae4a-f9c1-42bb-a813-2a094d4a7a8c"
      },
      "outputs": [
        {
          "output_type": "stream",
          "name": "stdout",
          "text": [
            "Hello world\n"
          ]
        }
      ],
      "source": [
        "print(\"Hello world\")"
      ]
    },
    {
      "cell_type": "markdown",
      "source": [
        "# 畫金字塔"
      ],
      "metadata": {
        "id": "Jh_WDORq6VRQ"
      }
    },
    {
      "cell_type": "code",
      "source": [
        "\"*\"*10"
      ],
      "metadata": {
        "colab": {
          "base_uri": "https://localhost:8080/",
          "height": 35
        },
        "id": "7XwpOrIe6mpr",
        "outputId": "552ed84a-c447-4685-c941-d88defa6e5d8"
      },
      "execution_count": 3,
      "outputs": [
        {
          "output_type": "execute_result",
          "data": {
            "text/plain": [
              "'**********'"
            ],
            "application/vnd.google.colaboratory.intrinsic+json": {
              "type": "string"
            }
          },
          "metadata": {},
          "execution_count": 3
        }
      ]
    },
    {
      "cell_type": "code",
      "source": [
        "\"*\"*10+\" \"*10+\"*\"*10"
      ],
      "metadata": {
        "colab": {
          "base_uri": "https://localhost:8080/",
          "height": 35
        },
        "id": "_HGuCL4263W3",
        "outputId": "59e86237-bd5b-41ee-ec14-a22f4e07b332"
      },
      "execution_count": 5,
      "outputs": [
        {
          "output_type": "execute_result",
          "data": {
            "text/plain": [
              "'**********          **********'"
            ],
            "application/vnd.google.colaboratory.intrinsic+json": {
              "type": "string"
            }
          },
          "metadata": {},
          "execution_count": 5
        }
      ]
    },
    {
      "cell_type": "code",
      "source": [
        "def pyramid(n):\n",
        "  for i in range(n):\n",
        "    print((n-i)*\" \"+(2*i+1)*\"*\")"
      ],
      "metadata": {
        "id": "4UQatnXA7JoQ"
      },
      "execution_count": 30,
      "outputs": []
    },
    {
      "cell_type": "code",
      "source": [
        "pyramid(3)"
      ],
      "metadata": {
        "colab": {
          "base_uri": "https://localhost:8080/"
        },
        "id": "g-_qhTfa_0g-",
        "outputId": "68d10fb8-5c6c-491a-c9e2-a396d27ee3de"
      },
      "execution_count": 32,
      "outputs": [
        {
          "output_type": "stream",
          "name": "stdout",
          "text": [
            "   *\n",
            "  ***\n",
            " *****\n"
          ]
        }
      ]
    },
    {
      "cell_type": "markdown",
      "source": [
        "# 變數"
      ],
      "metadata": {
        "id": "3uhktK956pAb"
      }
    },
    {
      "cell_type": "code",
      "source": [
        "x = 1"
      ],
      "metadata": {
        "id": "or38YxohUujz"
      },
      "execution_count": 35,
      "outputs": []
    },
    {
      "cell_type": "code",
      "source": [
        "# 顯示x的記憶體位置\n",
        "id(x)"
      ],
      "metadata": {
        "colab": {
          "base_uri": "https://localhost:8080/"
        },
        "id": "1j0Am7BlUzss",
        "outputId": "984100ac-07ca-4ab9-aad9-868daf3261c4"
      },
      "execution_count": 36,
      "outputs": [
        {
          "output_type": "execute_result",
          "data": {
            "text/plain": [
              "11256064"
            ]
          },
          "metadata": {},
          "execution_count": 36
        }
      ]
    },
    {
      "cell_type": "code",
      "source": [
        "# 顯示記憶體的十六進位位置\n",
        "hex(id(x))"
      ],
      "metadata": {
        "colab": {
          "base_uri": "https://localhost:8080/",
          "height": 35
        },
        "id": "7sXnbxGAVps1",
        "outputId": "81491f0a-fbc5-4731-cc2b-48f684b7cb2a"
      },
      "execution_count": 37,
      "outputs": [
        {
          "output_type": "execute_result",
          "data": {
            "text/plain": [
              "'0xabc100'"
            ],
            "application/vnd.google.colaboratory.intrinsic+json": {
              "type": "string"
            }
          },
          "metadata": {},
          "execution_count": 37
        }
      ]
    },
    {
      "cell_type": "markdown",
      "source": [
        "# 資料型態\n",
        "* int\n",
        "* float\n",
        "* bool\n",
        "* str"
      ],
      "metadata": {
        "id": "JAXNUnaHUh13"
      }
    },
    {
      "cell_type": "markdown",
      "source": [
        "# 使用Line Notify傳送訊息給自己\n",
        "\n",
        "* [取得權杖](https://notify-bot.line.me/my/)\n",
        "* [Line Sticker List](https://github.com/victorgau/khpy_linenotify_intro/raw/main/misc/sticker_list.pdf)"
      ],
      "metadata": {
        "id": "B9PNtY5WcOwv"
      }
    },
    {
      "cell_type": "code",
      "source": [
        "!curl -o linenotify.py https://raw.githubusercontent.com/victorgau/khpy_linenotify_intro/main/py/linenotify.py"
      ],
      "metadata": {
        "colab": {
          "base_uri": "https://localhost:8080/"
        },
        "id": "iLvnn4vwUogy",
        "outputId": "2f6b68fd-47a6-4de6-ff40-345bc7e2e10d"
      },
      "execution_count": 67,
      "outputs": [
        {
          "output_type": "stream",
          "name": "stdout",
          "text": [
            "  % Total    % Received % Xferd  Average Speed   Time    Time     Time  Current\n",
            "                                 Dload  Upload   Total   Spent    Left  Speed\n",
            "\r  0     0    0     0    0     0      0      0 --:--:-- --:--:-- --:--:--     0\r100   818  100   818    0     0  32720      0 --:--:-- --:--:-- --:--:-- 32720\n"
          ]
        }
      ]
    },
    {
      "cell_type": "code",
      "source": [
        "token = \"ygitHerJ8gg00PyRirFoSIPitE0OjIZUknvnytFPgVH\""
      ],
      "metadata": {
        "id": "PA2LbWaOefLA"
      },
      "execution_count": 63,
      "outputs": []
    },
    {
      "cell_type": "code",
      "source": [
        "from linenotify import Notify"
      ],
      "metadata": {
        "id": "wTP4wf5WeqJA"
      },
      "execution_count": 96,
      "outputs": []
    },
    {
      "cell_type": "code",
      "source": [
        "Notify(token,\"測試10\",img=\"123.jpg\")"
      ],
      "metadata": {
        "colab": {
          "base_uri": "https://localhost:8080/"
        },
        "id": "o7lKDyLhezGZ",
        "outputId": "ca4d3dc8-ba2f-43b8-a4d5-28d7e6953484"
      },
      "execution_count": 116,
      "outputs": [
        {
          "output_type": "execute_result",
          "data": {
            "text/plain": [
              "<Response [400]>"
            ]
          },
          "metadata": {},
          "execution_count": 116
        }
      ]
    },
    {
      "cell_type": "markdown",
      "source": [
        "# 容器型別(Container Types)\n",
        "* list ==> []\n",
        "* Tuple ==> ()\n",
        "* Dict ==> {}\n",
        "* Set ==> {}"
      ],
      "metadata": {
        "id": "rHXo37u7wa8G"
      }
    },
    {
      "cell_type": "code",
      "source": [
        "x=list(\"abcde\")\n",
        "x"
      ],
      "metadata": {
        "colab": {
          "base_uri": "https://localhost:8080/"
        },
        "id": "LuGzHY2NxpW_",
        "outputId": "7b253c33-d4d4-457b-97fa-890ad56f7a90"
      },
      "execution_count": 98,
      "outputs": [
        {
          "output_type": "execute_result",
          "data": {
            "text/plain": [
              "['a', 'b', 'c', 'd', 'e']"
            ]
          },
          "metadata": {},
          "execution_count": 98
        }
      ]
    },
    {
      "cell_type": "markdown",
      "source": [
        "# List vs Tuple\n",
        "* Tuple不可改變內容,資料結構較小,運算所需資源較少"
      ],
      "metadata": {
        "id": "HlYw47hhzr2p"
      }
    },
    {
      "cell_type": "code",
      "source": [
        ""
      ],
      "metadata": {
        "id": "f1TKKBar0qAh"
      },
      "execution_count": null,
      "outputs": []
    },
    {
      "cell_type": "code",
      "source": [
        "y=tuple(\"abcde\")"
      ],
      "metadata": {
        "id": "jUturbfzz4jG"
      },
      "execution_count": 103,
      "outputs": []
    },
    {
      "cell_type": "code",
      "source": [
        "y"
      ],
      "metadata": {
        "colab": {
          "base_uri": "https://localhost:8080/"
        },
        "id": "MaTqlUEa0Hno",
        "outputId": "ed43573b-705d-4716-8f49-85eb719af788"
      },
      "execution_count": 104,
      "outputs": [
        {
          "output_type": "execute_result",
          "data": {
            "text/plain": [
              "('a', 'b', 'c', 'd', 'e')"
            ]
          },
          "metadata": {},
          "execution_count": 104
        }
      ]
    },
    {
      "cell_type": "code",
      "source": [
        "z={}"
      ],
      "metadata": {
        "id": "Dg_bkTpy1F6C"
      },
      "execution_count": 106,
      "outputs": []
    },
    {
      "cell_type": "code",
      "source": [
        "type(z)"
      ],
      "metadata": {
        "colab": {
          "base_uri": "https://localhost:8080/"
        },
        "id": "WMewZ-Ly1N6Y",
        "outputId": "5eced082-5e86-44a1-e5d1-0142fc1fff29"
      },
      "execution_count": 107,
      "outputs": [
        {
          "output_type": "execute_result",
          "data": {
            "text/plain": [
              "dict"
            ]
          },
          "metadata": {},
          "execution_count": 107
        }
      ]
    },
    {
      "cell_type": "code",
      "source": [
        "z[\"cat\"]=\"貓咪\"\n",
        "z[\"dog\"]=\"狗狗\"\n",
        "z"
      ],
      "metadata": {
        "colab": {
          "base_uri": "https://localhost:8080/"
        },
        "id": "iaksZObL1aOa",
        "outputId": "ee7ee8f2-4ed1-4f77-cd99-f564da1b2842"
      },
      "execution_count": 108,
      "outputs": [
        {
          "output_type": "execute_result",
          "data": {
            "text/plain": [
              "{'cat': '貓咪', 'dog': '狗狗'}"
            ]
          },
          "metadata": {},
          "execution_count": 108
        }
      ]
    },
    {
      "cell_type": "code",
      "source": [
        "z.keys()"
      ],
      "metadata": {
        "colab": {
          "base_uri": "https://localhost:8080/"
        },
        "id": "Z2LwDabn1rj0",
        "outputId": "80decf89-e1ec-4f5b-9ac1-509375b86178"
      },
      "execution_count": 112,
      "outputs": [
        {
          "output_type": "execute_result",
          "data": {
            "text/plain": [
              "dict_keys(['cat', 'dog'])"
            ]
          },
          "metadata": {},
          "execution_count": 112
        }
      ]
    },
    {
      "cell_type": "code",
      "source": [
        "u=()\n",
        "u=set(\"abcde\")"
      ],
      "metadata": {
        "id": "wndzAZkf0N-W"
      },
      "execution_count": 114,
      "outputs": []
    },
    {
      "cell_type": "code",
      "source": [
        "u"
      ],
      "metadata": {
        "colab": {
          "base_uri": "https://localhost:8080/"
        },
        "id": "C1ab29kB3-jS",
        "outputId": "b14b4232-8d2f-4798-c6e1-c7f12d4ee9ae"
      },
      "execution_count": 115,
      "outputs": [
        {
          "output_type": "execute_result",
          "data": {
            "text/plain": [
              "{'a', 'b', 'c', 'd', 'e'}"
            ]
          },
          "metadata": {},
          "execution_count": 115
        }
      ]
    },
    {
      "cell_type": "markdown",
      "source": [
        "愛因斯坦說: $ E=mc^2 $\n",
        "$$ E=mc^2 $$"
      ],
      "metadata": {
        "id": "o9dLuFfKxD5U"
      }
    }
  ]
}